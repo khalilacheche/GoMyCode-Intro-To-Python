{
 "cells": [
  {
   "cell_type": "code",
   "execution_count": 1,
   "metadata": {},
   "outputs": [
    {
     "name": "stdout",
     "output_type": "stream",
     "text": [
      "input: \n",
      "\n",
      "[[2 2 1 6]\n",
      " [8 3 3 6]]\n",
      "output: \n",
      "[2, 2, 1, 6, 8, 3, 3, 6]\n"
     ]
    }
   ],
   "source": [
    "import numpy as np\n",
    "def arrayToList (array):\n",
    "    array = array.reshape(1,array.size)\n",
    "    l=[]\n",
    "    for i in range (array.size):\n",
    "        l.append(array[0,i])\n",
    "    return l\n",
    "              \n",
    "a = np.random.randint(0,10,(2,4))\n",
    "print(\"input: \\n\")\n",
    "print(a)\n",
    "print(\"output: \")\n",
    "print(arrayToList(a))\n"
   ]
  },
  {
   "cell_type": "code",
   "execution_count": 2,
   "metadata": {},
   "outputs": [
    {
     "name": "stdout",
     "output_type": "stream",
     "text": [
      "input: \n",
      "\n",
      "[[9 5 1]\n",
      " [4 4 2]\n",
      " [7 0 5]]\n",
      "output: \n",
      "18\n"
     ]
    }
   ],
   "source": [
    "def sumDiag (array):\n",
    "    res=0\n",
    "    for i in range (min(array.shape[0],array.shape[1])):\n",
    "        res+=array[i,i]\n",
    "    return res\n",
    "\n",
    "a = np.random.randint(0,10,(3,3))\n",
    "print(\"input: \\n\")\n",
    "print(a)\n",
    "print(\"output: \")\n",
    "print(sumDiag(a))"
   ]
  },
  {
   "cell_type": "code",
   "execution_count": 3,
   "metadata": {},
   "outputs": [
    {
     "name": "stdout",
     "output_type": "stream",
     "text": [
      "input: \n",
      "\n",
      "[[1 2 0]\n",
      " [9 1 5]\n",
      " [5 9 3]]\n",
      "give x: 2\n",
      "[9, 5, 5, 9, 3]\n"
     ]
    }
   ],
   "source": [
    "def valuesSup (array, x):\n",
    "    res=[]\n",
    "    l= arrayToList(array)\n",
    "    for i in l:\n",
    "        if i>x:\n",
    "            res.append(i)\n",
    "    return res\n",
    "\n",
    "a = np.random.randint(0,10,(3,3))\n",
    "print(\"input: \\n\")\n",
    "print(a)\n",
    "x=int(input(\"give x: \"))\n",
    "print(valuesSup(a,x))\n",
    "            "
   ]
  },
  {
   "cell_type": "code",
   "execution_count": 4,
   "metadata": {},
   "outputs": [
    {
     "name": "stdout",
     "output_type": "stream",
     "text": [
      "A: \n",
      "\n",
      "[[1 5 8]\n",
      " [8 9 0]\n",
      " [6 4 7]]\n",
      "B: \n",
      "\n",
      "[[6 6 9]\n",
      " [3 6 2]\n",
      " [3 7 9]]\n",
      "C: \n",
      "\n",
      "[[ 7 11 17]\n",
      " [11 15  2]\n",
      " [ 9 11 16]]\n"
     ]
    }
   ],
   "source": [
    "def arraySum (A,B):\n",
    "    a= np.zeros((A.shape[0],A.shape[1]),dtype=int)\n",
    "    for y in range(A.shape[0]):\n",
    "        for x in range (B.shape[1]):\n",
    "            a[y,x] = A[y,x] + B[y,x]\n",
    "    return a\n",
    "a = np.random.randint(0,10,(3,3))\n",
    "b = np.random.randint(0,10,(3,3))\n",
    "print(\"A: \\n\")\n",
    "print(a)\n",
    "print(\"B: \\n\")\n",
    "print(b)\n",
    "print(\"C: \\n\")\n",
    "print(arraySum(a,b))\n"
   ]
  },
  {
   "cell_type": "code",
   "execution_count": 5,
   "metadata": {},
   "outputs": [
    {
     "name": "stdout",
     "output_type": "stream",
     "text": [
      "input: \n",
      "\n",
      "[[0.62222829 0.05014267 0.16723418 0.15536635]\n",
      " [0.35955768 0.00601783 0.63824661 0.42654755]]\n",
      "output: \n",
      "[[ 0.37348542 -0.1986002  -0.08150869 -0.09337653]\n",
      " [ 0.00196526 -0.35157459  0.28065419  0.06895513]]\n"
     ]
    }
   ],
   "source": [
    "def meanSub(array):\n",
    "    res=array.copy()\n",
    "    means = np.mean(a,1) ##On peut aussi calculer la moyenne par nous meme, avec une boucle for pour chaque ligne\n",
    "    for y in range(array.shape[0]):\n",
    "        for x in range(array.shape[1]):\n",
    "            res[y,x]-=means[y]\n",
    "    return res\n",
    "\n",
    "a = np.random.rand(2,4)\n",
    "print(\"input: \\n\")\n",
    "print(a)\n",
    "print(\"output: \")\n",
    "print(meanSub(a))\n",
    "        "
   ]
  }
 ],
 "metadata": {
  "kernelspec": {
   "display_name": "Python 3",
   "language": "python",
   "name": "python3"
  },
  "language_info": {
   "codemirror_mode": {
    "name": "ipython",
    "version": 3
   },
   "file_extension": ".py",
   "mimetype": "text/x-python",
   "name": "python",
   "nbconvert_exporter": "python",
   "pygments_lexer": "ipython3",
   "version": "3.7.2"
  }
 },
 "nbformat": 4,
 "nbformat_minor": 4
}
