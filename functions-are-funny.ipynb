{
 "cells": [
  {
   "cell_type": "code",
   "execution_count": 1,
   "metadata": {},
   "outputs": [
    {
     "name": "stdout",
     "output_type": "stream",
     "text": [
      "10\n"
     ]
    }
   ],
   "source": [
    "def max (x,y,z):\n",
    "    if(x>y and x>z):\n",
    "        return x\n",
    "    elif y>z:\n",
    "        return y\n",
    "    else:\n",
    "        return z\n",
    "\n",
    "print (max(3,10,2))"
   ]
  },
  {
   "cell_type": "code",
   "execution_count": 2,
   "metadata": {},
   "outputs": [
    {
     "name": "stdout",
     "output_type": "stream",
     "text": [
      "sum 6\n",
      "product 15\n"
     ]
    }
   ],
   "source": [
    "\n",
    "def sum (l):\n",
    "    result=0\n",
    "    for i in l:\n",
    "        result+=i\n",
    "    return result\n",
    "def prod (l):\n",
    "    result =1\n",
    "    for i in l:\n",
    "        result *=i\n",
    "    return result\n",
    "\n",
    "\n",
    "l = [1,2,3,4,5]\n",
    "\n",
    "lOdd=[]\n",
    "lEven=[]\n",
    "for i in range (len(l)):\n",
    "    if i % 2==0:\n",
    "       lEven.append(l[i])\n",
    "    else:\n",
    "        lOdd.append(l[i])\n",
    "print(\"sum \"+str(sum(lOdd)))\n",
    "\n",
    "print(\"product \"+str(prod(lEven)))"
   ]
  },
  {
   "cell_type": "code",
   "execution_count": 3,
   "metadata": {},
   "outputs": [
    {
     "name": "stdout",
     "output_type": "stream",
     "text": [
      "black-green-red-white-yellow\n"
     ]
    }
   ],
   "source": [
    "def alphabetSort (seq):\n",
    "    l = sorted(seq.split(\"-\"))\n",
    "    s=\"\"\n",
    "    for i in range(len(l)):\n",
    "        s+=l[i]\n",
    "        if i!= len(l)-1:\n",
    "            s+=\"-\"\n",
    "    return s\n",
    "print(alphabetSort(\"green-red-yellow-black-white\"))\n"
   ]
  },
  {
   "cell_type": "code",
   "execution_count": null,
   "metadata": {},
   "outputs": [],
   "source": []
  }
 ],
 "metadata": {
  "kernelspec": {
   "display_name": "Python 3",
   "language": "python",
   "name": "python3"
  },
  "language_info": {
   "codemirror_mode": {
    "name": "ipython",
    "version": 3
   },
   "file_extension": ".py",
   "mimetype": "text/x-python",
   "name": "python",
   "nbconvert_exporter": "python",
   "pygments_lexer": "ipython3",
   "version": "3.7.2"
  }
 },
 "nbformat": 4,
 "nbformat_minor": 4
}
