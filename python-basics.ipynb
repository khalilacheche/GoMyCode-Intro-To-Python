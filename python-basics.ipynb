{
 "cells": [
  {
   "cell_type": "code",
   "execution_count": 3,
   "metadata": {
    "scrolled": true
   },
   "outputs": [
    {
     "name": "stdout",
     "output_type": "stream",
     "text": [
      "firstName: Khalil\n",
      "secondName: Achache\n",
      "Achache Khalil\n"
     ]
    }
   ],
   "source": [
    "firstName = input(\"firstName: \")\n",
    "lastName = input(\"secondName: \")\n",
    "print(lastName + \" \" + firstName)"
   ]
  },
  {
   "cell_type": "code",
   "execution_count": 1,
   "metadata": {},
   "outputs": [
    {
     "name": "stdout",
     "output_type": "stream",
     "text": [
      "enter n: 5\n",
      "615\n"
     ]
    }
   ],
   "source": [
    "n = str(input(\"enter n: \"))\n",
    "print(int(n)+int(n+n)+int(n+n+n))"
   ]
  },
  {
   "cell_type": "code",
   "execution_count": 2,
   "metadata": {
    "scrolled": true
   },
   "outputs": [
    {
     "name": "stdout",
     "output_type": "stream",
     "text": [
      "enter a number: 5\n",
      "the number 5 is odd\n"
     ]
    }
   ],
   "source": [
    "n=input(\"enter a number: \")\n",
    "isEven= (int(n)%2 == 0)\n",
    "print(\"the number \"+n+\" is \"+ (\"even\"if isEven else\"odd\"))"
   ]
  },
  {
   "cell_type": "code",
   "execution_count": 5,
   "metadata": {},
   "outputs": [
    {
     "name": "stdout",
     "output_type": "stream",
     "text": [
      "enter a year: 1988\n",
      "the year 1988 is  a leap year\n"
     ]
    }
   ],
   "source": [
    "year = input(\"enter a year: \")\n",
    "isLeap = (int(year)%4==0 and int(year)%100!=0)\n",
    "print(\"the year \"+year+\" is \"+(\"\"if isLeap else \"not\")+\" a leap year\")"
   ]
  },
  {
   "cell_type": "code",
   "execution_count": 9,
   "metadata": {},
   "outputs": [
    {
     "name": "stdout",
     "output_type": "stream",
     "text": [
      "enter a string hello team\n",
      "hlota\n"
     ]
    }
   ],
   "source": [
    "inp = input(\"enter a string \")\n",
    "res=\"\"\n",
    "for i in range(0,len(inp),2):\n",
    "    res+=inp[i]\n",
    "print (res)"
   ]
  },
  {
   "cell_type": "code",
   "execution_count": 13,
   "metadata": {},
   "outputs": [
    {
     "name": "stdout",
     "output_type": "stream",
     "text": [
      "enter original price: 221\n",
      "the discounted price is 154.7\n"
     ]
    }
   ],
   "source": [
    "original = int(input(\"enter original price: \"))\n",
    "discounted=0\n",
    "if original>=500:\n",
    "    discounted=original*0.5\n",
    "elif original>=200:\n",
    "    discounted=original*0.7\n",
    "else:\n",
    "    discounted=original*0.9\n",
    "print(\"the discounted price is \"+str(discounted))    "
   ]
  }
 ],
 "metadata": {
  "kernelspec": {
   "display_name": "Python 3",
   "language": "python",
   "name": "python3"
  },
  "language_info": {
   "codemirror_mode": {
    "name": "ipython",
    "version": 3
   },
   "file_extension": ".py",
   "mimetype": "text/x-python",
   "name": "python",
   "nbconvert_exporter": "python",
   "pygments_lexer": "ipython3",
   "version": "3.7.2"
  }
 },
 "nbformat": 4,
 "nbformat_minor": 4
}
