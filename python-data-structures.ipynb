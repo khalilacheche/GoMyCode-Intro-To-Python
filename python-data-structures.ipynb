{
 "cells": [
  {
   "cell_type": "code",
   "execution_count": 4,
   "metadata": {},
   "outputs": [
    {
     "name": "stdout",
     "output_type": "stream",
     "text": [
      "36\n"
     ]
    }
   ],
   "source": [
    "list=[2, 3, 6]\n",
    "\n",
    "product=1\n",
    "for i in list:\n",
    "    product*=i\n",
    "\n",
    "print(product)"
   ]
  },
  {
   "cell_type": "code",
   "execution_count": 12,
   "metadata": {},
   "outputs": [
    {
     "name": "stdout",
     "output_type": "stream",
     "text": [
      "[(2, 1), (1, 2), (2, 3), (4, 4), (2, 5)]\n"
     ]
    }
   ],
   "source": [
    "list = [(2, 5), (1, 2), (4, 4), (2, 3), (2, 1)]\n",
    "\n",
    "hasSwapped=True\n",
    "\n",
    "while hasSwapped:\n",
    "    hasSwapped=False\n",
    "    for i in range(len(list)-1):\n",
    "        if(list[i][1]>list[i+1][1]):\n",
    "            hasSwapped=True\n",
    "            temp=list[i]\n",
    "            list[i]=list[i+1]\n",
    "            list[i+1]=temp\n",
    "print(list)\n",
    "    "
   ]
  },
  {
   "cell_type": "code",
   "execution_count": 16,
   "metadata": {},
   "outputs": [
    {
     "name": "stdout",
     "output_type": "stream",
     "text": [
      "{'a': 400, 'b': 400, 'd': 400, 'c': 300}\n"
     ]
    }
   ],
   "source": [
    "d1 = {'a': 100, 'b': 200, 'c':300}\n",
    "d2 = {'a': 300, 'b': 200, 'd':400}\n",
    "d3=d2\n",
    "for i in d1.keys():\n",
    "    if i in d3.keys():\n",
    "        d3[i] = d1[i] + d2[i]\n",
    "    else:\n",
    "        d3[i] = d1[i]\n",
    "print(d3)"
   ]
  },
  {
   "cell_type": "code",
   "execution_count": 19,
   "metadata": {},
   "outputs": [
    {
     "name": "stdout",
     "output_type": "stream",
     "text": [
      "[('item3', '24.5'), ('item2', '15.10'), ('item1', '12.20')]\n"
     ]
    }
   ],
   "source": [
    "list= [('item1', '12.20'), ('item2', '15.10'), ('item3', '24.5')]\n",
    "hasSwapped=True\n",
    "\n",
    "while hasSwapped:\n",
    "    hasSwapped=False\n",
    "    for i in range(len(list)-1):\n",
    "        if float(list[i][1])<float(list[i+1][1]):\n",
    "            hasSwapped=True\n",
    "            temp=list[i]\n",
    "            list[i]=list[i+1]\n",
    "            list[i+1]=temp\n",
    "print(list)"
   ]
  },
  {
   "cell_type": "code",
   "execution_count": null,
   "metadata": {},
   "outputs": [],
   "source": []
  }
 ],
 "metadata": {
  "kernelspec": {
   "display_name": "Python 3",
   "language": "python",
   "name": "python3"
  },
  "language_info": {
   "codemirror_mode": {
    "name": "ipython",
    "version": 3
   },
   "file_extension": ".py",
   "mimetype": "text/x-python",
   "name": "python",
   "nbconvert_exporter": "python",
   "pygments_lexer": "ipython3",
   "version": "3.7.2"
  }
 },
 "nbformat": 4,
 "nbformat_minor": 4
}
